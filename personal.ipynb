{
 "cells": [
  {
   "cell_type": "code",
   "execution_count": 1,
   "metadata": {},
   "outputs": [],
   "source": [
    "import torch\n",
    "from torch import optim\n",
    "import numpy as np\n",
    "import matplotlib.pyplot as plt\n",
    "from datasets.custom_datasets import LSPDataset, MPIIDataset\n",
    "from torch.utils.data import DataLoader\n",
    "from torch.utils.data import Dataset\n",
    "from models.pose_estimation_model import TransformerPoseModel\n",
    "from utils.training_helpers import resize_single_joint\n",
    "# from utils.training_helpers import plot_with_joints\n",
    "from utils.training_helpers import plot_with_joints_r\n",
    "from utils.preprocessing_helpers import get_image_sizes, get_list_of_image_names\n",
    "from models.loss import JointsMSELoss\n",
    "from torch.optim import Adam\n",
    "from utils.heatmap_funcs import generate_gaussian_heatmap, generate_single_image_gaussian, upsample_heatmap\n",
    "import torchvision.io\n",
    "import datetime"
   ]
  },
  {
   "cell_type": "code",
   "execution_count": 2,
   "metadata": {},
   "outputs": [],
   "source": [
    "mps_device = torch.device(\"mps\")"
   ]
  },
  {
   "cell_type": "code",
   "execution_count": 3,
   "metadata": {},
   "outputs": [
    {
     "name": "stdout",
     "output_type": "stream",
     "text": [
      "(10000, 14, 3)\n"
     ]
    }
   ],
   "source": [
    "# dataset loading\n",
    "# annot = np.load('/home/mxerri/JointPoseEstimation/Data/lsp/leeds_sports_extended.npy')\n",
    "annot = np.load('/Users/richardpignatiello/repos/4701/JointPoseEstimation/data/lsp/leeds_sports_extended.npy')\n",
    "annot_s = np.swapaxes(annot, 0,2)\n",
    "annot_s = np.swapaxes(annot_s,1,2)\n",
    "\n",
    "# retrieve image sizes\n",
    "# image_sizes = get_image_sizes('/home/mxerri/JointPoseEstimation/Data/lsp/images/')\n",
    "image_sizes = get_image_sizes('/Users/richardpignatiello/repos/4701/JointPoseEstimation/data/lsp/images/')\n",
    "# image_sizes_resized = get_image_sizes('/home/mxerri/JointPoseEstimation/Data/lsp/images224/')\n",
    "image_sizes_resized = get_image_sizes('/Users/richardpignatiello/repos/4701/JointPoseEstimation/data/lsp/images224/')\n",
    "annot_resize = np.zeros_like(annot_s)\n",
    "\n",
    "# resize annotations\n",
    "for i in range(10000):\n",
    "    annot_resize[i] = resize_single_joint(annot_s[i],image_sizes_resized[i],image_sizes[i] ) \n",
    "    # make annortations into 56 x 56 for loss function \n",
    "    annot_resize[i] = resize_single_joint(annot_resize[i],(56,56),(224,224))\n",
    "\n",
    "print(annot_resize.shape)"
   ]
  },
  {
   "cell_type": "code",
   "execution_count": 4,
   "metadata": {},
   "outputs": [
    {
     "name": "stdout",
     "output_type": "stream",
     "text": [
      "(10, 14, 56, 56)\n",
      "(56, 56)\n",
      "(18, 40)\n",
      "[18. 40.  1.]\n"
     ]
    },
    {
     "data": {
      "image/png": "[encoded data removed]",
      "text/plain": [
       "<Figure size 640x480 with 1 Axes>"
      ]
     },
     "metadata": {},
     "output_type": "display_data"
    }
   ],
   "source": [
    "# convert to joint heatmaps from coordiantes: \n",
    "heatmaps = generate_gaussian_heatmap(annot_resize[0:10],(56,56),3)\n",
    "print(heatmaps.shape)\n",
    "# heatmaps_down = upsample_heatmap(heatmaps, (56,56))\n",
    "plt.imshow(heatmaps[0][2])\n",
    "print(heatmaps[0][2].shape)\n",
    "z = np.unravel_index(heatmaps[0,2,:,:].argmax(), heatmaps[0,2,:,:].shape)\n",
    "print(z)\n",
    "print(annot_resize[0,2,:])"
   ]
  },
  {
   "cell_type": "code",
   "execution_count": 5,
   "metadata": {},
   "outputs": [],
   "source": [
    "def test_plot():\n",
    "  # im = torchvision.io.read_image('/Users/richardpignatiello/repos/4701/JointPoseEstimation/data/lsp/images224/resized_im00012.jpg')\n",
    "  im = torchvision.io.read_image('/Users/richardpignatiello/Downloads/jpe_test/thomas.jpg')\n",
    "  im = torch.unsqueeze(im, 0)\n",
    "  im = im.to(mps_device)\n",
    "\n",
    "  joints = model(im, False)\n",
    "  # displayHeatmap(joints)\n",
    "  joints = joints.squeeze()\n",
    "  im = im.squeeze()\n",
    "  x = []\n",
    "  y = []\n",
    "  for joint in joints:\n",
    "    # print(f\"max: {(joint==torch.max(joint)).nonzero()}\")\n",
    "    coor = (joint==torch.max(joint)).nonzero()\n",
    "    print(torch.max(joint))\n",
    "    if torch.max(joint) > .3:\n",
    "      x.append(int(coor[0][0] * 4))\n",
    "      y.append(int(coor[0][1] * 4))\n",
    "      print((int(coor[0][0] * 4), int(coor[0][1] * 4)))\n",
    "  im = im.cpu()\n",
    "  plot_with_joints_r(im, x, y)"
   ]
  },
  {
   "cell_type": "code",
   "execution_count": 6,
   "metadata": {},
   "outputs": [],
   "source": [
    "def displayHeatmap(heatmap):\n",
    "  print('show image!!')\n",
    "  for i in range(14):\n",
    "    plt.imshow(heatmap[0][i].detach().cpu().numpy())\n",
    "    plt.show()"
   ]
  },
  {
   "cell_type": "code",
   "execution_count": 7,
   "metadata": {},
   "outputs": [],
   "source": [
    "def train(save_path):\n",
    "    num_batches = len(train_loader)\n",
    "    for epoch in range(200):\n",
    "        start_epoch = datetime.datetime.now()\n",
    "        total_loss = 0\n",
    "        count = 0\n",
    "        load_tensor_total = datetime.timedelta()\n",
    "        model_computation_total = datetime.timedelta()\n",
    "        calc_loss_total = datetime.timedelta()\n",
    "        loss_backward_total = datetime.timedelta()\n",
    "        optimizer_time_total = datetime.timedelta()\n",
    "        for batch_idx, (imgs, labels, _) in enumerate(train_loader):\n",
    "            load_tensors_start = datetime.datetime.now()\n",
    "            imgs = imgs.to(mps_device)\n",
    "            labels = labels.float()\n",
    "            labels = labels.to(mps_device)\n",
    "            load_tensor_total += datetime.datetime.now() - load_tensors_start\n",
    "\n",
    "            optimizer.zero_grad()\n",
    "\n",
    "            computation_start = datetime.datetime.now()\n",
    "            output = model(imgs, 'train') # -> (5, H/4, W/4, #joints) \n",
    "            computation_time_total = datetime.datetime.now() - computation_start\n",
    "\n",
    "            calc_loss_start = datetime.datetime.now()\n",
    "            loss = loss_func(output, labels.float())\n",
    "            calc_loss_total += datetime.datetime.now() - calc_loss_start\n",
    "            \n",
    "            loss_backward_start = datetime.datetime.now()\n",
    "            loss.backward()\n",
    "            loss_backward_total += datetime.datetime.now() - loss_backward_start\n",
    "\n",
    "            optimizer_start_time = datetime.datetime.now()\n",
    "            optimizer.step()\n",
    "            optimizer_time_total = datetime.datetime.now() - optimizer_start_time\n",
    "            total_loss += loss\n",
    "\n",
    "            # print(\"batch completed\")\n",
    "            # if batch_idx % 31 == 0 and batch_idx > 0:\n",
    "                # print(f\"{int(batch_idx / len(train_loader) * 100) + 1}%\")\n",
    "                # print(f\"{int(batch_idx / 625 * 100) + 1}%\")\n",
    "        if epoch % 1 == 0:\n",
    "            print(\"epoch:\", epoch, \"loss: \", total_loss)\n",
    "            elapsed_epoch = datetime.datetime.now() - start_epoch\n",
    "            print(f\"epoch {epoch} trained in: {elapsed_epoch}\")\n",
    "            print(f\"AVG time per batch {elapsed_epoch / num_batches}\")\n",
    "            print(f\"AVG tensor load time: {load_tensor_total / num_batches}\")\n",
    "            print(f\"AVG prediction time: {computation_time_total / num_batches}\")\n",
    "            print(f\"AVG loss calc time: {calc_loss_total / num_batches}\")\n",
    "            print(f\"AVG loss backward time: {loss_backward_total / num_batches}\")\n",
    "            print(f\"AVG optimizer step time: {optimizer_time_total / num_batches}\")\n",
    "            break\n",
    "            # displayHeatmap(output)\n",
    "            # test_plot()\n",
    "        # if (epoch + 1) % 10 == 0:\n",
    "            # torch.save(model.state_dict(), save_path)\n",
    "            # displayHeatmap(output)\n",
    "            # test_plot()"
   ]
  },
  {
   "cell_type": "code",
   "execution_count": 8,
   "metadata": {},
   "outputs": [],
   "source": [
    "def validate():\n",
    "  start_time = datetime.timedelta()\n",
    "  total_loss = 0\n",
    "  for batch_idx, (imgs, labels, _) in enumerate(test_loader):\n",
    "    imgs = imgs.to(mps_device)\n",
    "    labels = labels.float()\n",
    "    labels = labels.to(mps_device)\n",
    "\n",
    "    optimizer.zero_grad()\n",
    "\n",
    "    output = model(imgs, 'val') # -> (5, H/4, W/4, #joints) \n",
    "\n",
    "    loss = loss_func(output, labels.float())\n",
    "    \n",
    "    loss.backward()\n",
    "\n",
    "    total_loss += loss\n",
    "\n",
    "  elapsed_time = datetime.datetime.now() - start_time\n",
    "\n",
    "  print(f\"finished validation in {elapsed_time}\")\n",
    "  print(f\"loss: {total_loss}\")\n",
    "  print(f\"loss x 4: {total_loss * 4}\") # because validation data is 1/4 train data"
   ]
  },
  {
   "cell_type": "code",
   "execution_count": 9,
   "metadata": {},
   "outputs": [],
   "source": [
    "# create officia datasets and dataloaders for training\n",
    "image_name_list = get_list_of_image_names('/Users/richardpignatiello/repos/4701/JointPoseEstimation/data/lsp/images224/')\n",
    "dataset = LSPDataset(annot_resize, image_name_list,\"/Users/richardpignatiello/repos/4701/JointPoseEstimation/data/lsp/images224/\",1)\n",
    "\n",
    "train_dataset, test_dataset = torch.utils.data.random_split(dataset, [8000, 2000])\n",
    "train_loader = DataLoader(train_dataset, batch_size=32, shuffle=False) # changed 32 -> 16\n",
    "test_loader = DataLoader(test_dataset, batch_size=32, shuffle=False) # changed 32 -> 16"
   ]
  },
  {
   "cell_type": "code",
   "execution_count": 10,
   "metadata": {},
   "outputs": [
    {
     "name": "stderr",
     "output_type": "stream",
     "text": [
      "/opt/miniconda3/envs/jpe/lib/python3.9/site-packages/torch/nn/_reduction.py:42: UserWarning: size_average and reduce args will be deprecated, please use reduction='mean' instead.\n",
      "  warnings.warn(warning.format(ret))\n"
     ]
    },
    {
     "name": "stdout",
     "output_type": "stream",
     "text": [
      "epoch: 0 loss:  tensor(1.2300, device='mps:0', grad_fn=<AddBackward0>)\n",
      "epoch 0 trained in: 0:01:56.052478\n",
      "AVG time per batch 0:00:00.464210\n",
      "AVG tensor load time: 0:00:00.369159\n",
      "AVG prediction time: 0:00:00.000050\n",
      "AVG loss calc time: 0:00:00.006625\n",
      "AVG loss backward time: 0:00:00.014356\n",
      "AVG optimizer step time: 0:00:00.000095\n",
      "finished validation in 2023-12-07 19:46:25.771386\n",
      "loss: 0.12339607626199722\n",
      "loss x 4: 0.4935843050479889\n"
     ]
    }
   ],
   "source": [
    "model = TransformerPoseModel(2)\n",
    "optimizer = optim.Adam(model.parameters(), lr=0.001)\n",
    "loss_func = JointsMSELoss()\n",
    "model.to(mps_device)\n",
    "\n",
    "train('asdf')\n",
    "validate()"
   ]
  },
  {
   "cell_type": "code",
   "execution_count": 11,
   "metadata": {},
   "outputs": [],
   "source": [
    "# # create officia datasets and dataloaders for training\n",
    "# dataset = LSPDataset(annot_resize,\"/Users/richardpignatiello/repos/4701/JointPoseEstimation/data/lsp/images224/\", 3)\n",
    "# train_dataset, test_dataset = torch.utils.data.random_split(dataset, [8000, 2000])\n",
    "# train_loader = DataLoader(train_dataset, batch_size=16, shuffle=False) # changed 32 -> 16\n",
    "# test_loader = DataLoader(test_dataset, batch_size=16, shuffle=False) # changed 32 -> 16"
   ]
  },
  {
   "cell_type": "code",
   "execution_count": 12,
   "metadata": {},
   "outputs": [],
   "source": [
    "# model = TransformerPoseModel(2)\n",
    "# optimizer = optim.Adam(model.parameters(), lr=0.001)\n",
    "# loss_func = JointsMSELoss()\n",
    "# model.to(mps_device)\n",
    "\n",
    "# train('trained_models/small_blur.pth')\n",
    "# validate()"
   ]
  },
  {
   "cell_type": "code",
   "execution_count": 13,
   "metadata": {},
   "outputs": [],
   "source": [
    "# model = TransformerPoseModel(2)\n",
    "# model.load_state_dict(torch.load('/Users/richardpignatiello/repos/4701/JointPoseEstimation/trained_models/small_blur.pth'))\n",
    "# mps_device = torch.device(\"mps\")\n",
    "# model.to(mps_device)"
   ]
  },
  {
   "cell_type": "code",
   "execution_count": 14,
   "metadata": {},
   "outputs": [],
   "source": [
    "# vis_loader = DataLoader(test_dataset, 1, False)\n",
    "# for batch_idx, (imgs, labels, path) in enumerate(vis_loader):\n",
    "#   path = path[0]\n",
    "#   if batch_idx == 50:\n",
    "#     break\n",
    "#   im = torchvision.io.read_image(path)\n",
    "#   im = torch.unsqueeze(im, 0)\n",
    "#   im = im.to(mps_device)\n",
    "\n",
    "#   joints = model(im, 'pred')\n",
    "#   joints = joints.squeeze()\n",
    "#   im = im.squeeze()\n",
    "#   x = []\n",
    "#   y = []\n",
    "#   for joint in joints:\n",
    "#     # print(f\"max: {(joint==torch.max(joint)).nonzero()}\")\n",
    "#     coor = (joint==torch.max(joint)).nonzero()\n",
    "#     x.append(int(coor[0][0] * 4))\n",
    "#     y.append(int(coor[0][1] * 4))\n",
    "#   im = im.cpu()\n",
    "#   plot_with_joints_r(im, x, y)\n",
    "  \n",
    "#   # print(x)\n",
    "#   # print(y)"
   ]
  },
  {
   "cell_type": "code",
   "execution_count": 15,
   "metadata": {},
   "outputs": [],
   "source": [
    "# for i in range(6):\n",
    "#   im = torchvision.io.read_image(f'/Users/richardpignatiello/Downloads/jpe_test/IMG_847{i}.jpg')\n",
    "#   im = torch.unsqueeze(im, 0)\n",
    "#   im = im.to(mps_device)\n",
    "\n",
    "#   joints = model(im, 'pred)\n",
    "#   joints = joints.squeeze()\n",
    "#   im = im.squeeze()\n",
    "#   x = []\n",
    "#   y = []\n",
    "#   for joint in joints:\n",
    "#     # print(f\"max: {(joint==torch.max(joint)).nonzero()}\")\n",
    "#     coor = (joint==torch.max(joint)).nonzero()\n",
    "#     x.append(int(coor[0][0] * 4))\n",
    "#     y.append(int(coor[0][1] * 4))\n",
    "#   im = im.cpu()\n",
    "#   plot_with_joints_r(im, x, y)\n",
    "#   # print(x)\n",
    "#   # print(y)"
   ]
  }
 ],
 "metadata": {
  "kernelspec": {
   "display_name": "Python 3",
   "language": "python",
   "name": "python3"
  },
  "language_info": {
   "codemirror_mode": {
    "name": "ipython",
    "version": 3
   },
   "file_extension": ".py",
   "mimetype": "text/x-python",
   "name": "python",
   "nbconvert_exporter": "python",
   "pygments_lexer": "ipython3",
   "version": "3.9.18"
  }
 },
 "nbformat": 4,
 "nbformat_minor": 2
}
