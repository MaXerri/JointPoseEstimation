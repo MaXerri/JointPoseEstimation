{
 "cells": [
  {
   "cell_type": "code",
   "execution_count": 1,
   "metadata": {},
   "outputs": [],
   "source": [
    "import torch\n",
    "from torch import optim\n",
    "import numpy as np\n",
    "import matplotlib.pyplot as plt\n",
    "from datasets.custom_datasets import LSPDataset, MPIIDataset\n",
    "from torch.utils.data import DataLoader\n",
    "from torch.utils.data import Dataset\n",
    "from models.pose_estimation_model import TransformerPoseModel\n",
    "from utils.training_helpers import resize_single_joint\n",
    "from utils.training_helpers import plot_with_joints\n",
    "from utils.preprocessing_helpers import get_image_sizes\n",
    "from models.loss import JointsMSELoss\n",
    "from torch.optim import Adam\n",
    "from utils.heatmap_funcs import generate_gaussian_heatmap, upsample_heatmap\n"
   ]
  },
  {
   "cell_type": "code",
   "execution_count": 2,
   "metadata": {},
   "outputs": [
    {
     "name": "stdout",
     "output_type": "stream",
     "text": [
      "(10000, 14, 3)\n"
     ]
    }
   ],
   "source": [
    "# dataset loading\n",
    "#swap axis -> (n,#joints,cooridantes)\n",
    "annot = np.load('/home/mxerri/JointPoseEstimation/Data/lsp/leeds_sports_extended.npy')\n",
    "annot_s = np.swapaxes(annot, 0,2)\n",
    "annot_s = np.swapaxes(annot_s,1,2)\n",
    "\n",
    "# retrieve image sizes\n",
    "image_sizes = get_image_sizes('/home/mxerri/JointPoseEstimation/Data/lsp/images/')\n",
    "image_sizes_resized = get_image_sizes('/home/mxerri/JointPoseEstimation/Data/lsp/images224/')\n",
    "annot_resize = np.zeros_like(annot_s)\n",
    "\n",
    "# resize annotations\n",
    "for i in range(10000):\n",
    "    annot_resize[i] = resize_single_joint(annot_s[i],image_sizes_resized[i],image_sizes[i] ) \n",
    "    # make annortations into 56 x 56 for loss function \n",
    "    annot_resize[i] = resize_single_joint(annot_resize[i],(56,56),(224,224))\n",
    "\n",
    "print(annot_resize.shape)\n",
    "\n",
    "# heatmap annotations are converted in the dataloader, otherwise we can change pagetable size \n",
    "# to accomodate a larger array to pre-load \n",
    "\n",
    "# create officia datasets and dataloaders for training\n",
    "dataset = LSPDataset(annot_resize,\"/home/mxerri/JointPoseEstimation/Data/lsp/images224/\")\n",
    "dataset_mini = torch.utils.data.Subset(dataset,list(range(0,20)))\n",
    "train_loader = DataLoader(dataset, batch_size=32, shuffle=False)\n",
    "train_loader_mini = DataLoader(dataset_mini, batch_size=5, shuffle=False)"
   ]
  },
  {
   "cell_type": "code",
   "execution_count": 3,
   "metadata": {},
   "outputs": [
    {
     "name": "stdout",
     "output_type": "stream",
     "text": [
      "(10, 14, 56, 56)\n",
      "(18, 40)\n",
      "[18. 40.  1.]\n"
     ]
    },
    {
     "data": {
      "image/png": "[encoded data removed]",
      "text/plain": [
       "<Figure size 640x480 with 1 Axes>"
      ]
     },
     "metadata": {},
     "output_type": "display_data"
    }
   ],
   "source": [
    "# convert to joint heatmaps from coordiantes: \n",
    "heatmaps = generate_gaussian_heatmap(annot_resize[0:10],(56,56),2)\n",
    "print(heatmaps.shape)\n",
    "# heatmaps_down = upsample_heatmap(heatmaps, (56,56))\n",
    "plt.imshow(heatmaps[0][2])\n",
    "z = np.unravel_index(heatmaps[0,2,:,:].argmax(), heatmaps[0,2,:,:].shape)\n",
    "print(z)\n",
    "print(annot_resize[0,2,:])\n",
    "\n"
   ]
  },
  {
   "cell_type": "code",
   "execution_count": 4,
   "metadata": {},
   "outputs": [
    {
     "name": "stderr",
     "output_type": "stream",
     "text": [
      "/home/mxerri/.local/lib/python3.8/site-packages/torch/nn/_reduction.py:42: UserWarning: size_average and reduce args will be deprecated, please use reduction='mean' instead.\n",
      "  warnings.warn(warning.format(ret))\n"
     ]
    }
   ],
   "source": [
    "model = TransformerPoseModel(2)\n",
    "optimizer = optim.Adam(model.parameters(), lr=0.001)\n",
    "loss_func = JointsMSELoss()"
   ]
  },
  {
   "cell_type": "code",
   "execution_count": null,
   "metadata": {},
   "outputs": [],
   "source": []
  },
  {
   "cell_type": "code",
   "execution_count": 5,
   "metadata": {},
   "outputs": [
    {
     "name": "stdout",
     "output_type": "stream",
     "text": [
      "Unexpected exception formatting exception. Falling back to standard exception\n"
     ]
    },
    {
     "name": "stderr",
     "output_type": "stream",
     "text": [
      "Traceback (most recent call last):\n",
      "  File \"/home/mxerri/.local/lib/python3.8/site-packages/IPython/core/interactiveshell.py\", line 3508, in run_code\n",
      "    exec(code_obj, self.user_global_ns, self.user_ns)\n",
      "  File \"/tmp/ipykernel_23270/254056181.py\", line 24, in <module>\n",
      "    loss.backward()\n",
      "  File \"/home/mxerri/.local/lib/python3.8/site-packages/torch/_tensor.py\", line 492, in backward\n",
      "    torch.autograd.backward(\n",
      "  File \"/home/mxerri/.local/lib/python3.8/site-packages/torch/autograd/__init__.py\", line 251, in backward\n",
      "    Variable._execution_engine.run_backward(  # Calls into the C++ engine to run the backward pass\n",
      "KeyboardInterrupt\n",
      "\n",
      "During handling of the above exception, another exception occurred:\n",
      "\n",
      "Traceback (most recent call last):\n",
      "  File \"/home/mxerri/.local/lib/python3.8/site-packages/IPython/core/interactiveshell.py\", line 2105, in showtraceback\n",
      "    stb = self.InteractiveTB.structured_traceback(\n",
      "  File \"/home/mxerri/.local/lib/python3.8/site-packages/IPython/core/ultratb.py\", line 1396, in structured_traceback\n",
      "    return FormattedTB.structured_traceback(\n",
      "  File \"/home/mxerri/.local/lib/python3.8/site-packages/IPython/core/ultratb.py\", line 1287, in structured_traceback\n",
      "    return VerboseTB.structured_traceback(\n",
      "  File \"/home/mxerri/.local/lib/python3.8/site-packages/IPython/core/ultratb.py\", line 1140, in structured_traceback\n",
      "    formatted_exception = self.format_exception_as_a_whole(etype, evalue, etb, number_of_lines_of_context,\n",
      "  File \"/home/mxerri/.local/lib/python3.8/site-packages/IPython/core/ultratb.py\", line 1055, in format_exception_as_a_whole\n",
      "    frames.append(self.format_record(record))\n",
      "  File \"/home/mxerri/.local/lib/python3.8/site-packages/IPython/core/ultratb.py\", line 955, in format_record\n",
      "    frame_info.lines, Colors, self.has_colors, lvals\n",
      "  File \"/home/mxerri/.local/lib/python3.8/site-packages/IPython/core/ultratb.py\", line 778, in lines\n",
      "    return self._sd.lines\n",
      "  File \"/home/mxerri/.local/lib/python3.8/site-packages/stack_data/utils.py\", line 145, in cached_property_wrapper\n",
      "    value = obj.__dict__[self.func.__name__] = self.func(obj)\n",
      "  File \"/home/mxerri/.local/lib/python3.8/site-packages/stack_data/core.py\", line 734, in lines\n",
      "    pieces = self.included_pieces\n",
      "  File \"/home/mxerri/.local/lib/python3.8/site-packages/stack_data/utils.py\", line 145, in cached_property_wrapper\n",
      "    value = obj.__dict__[self.func.__name__] = self.func(obj)\n",
      "  File \"/home/mxerri/.local/lib/python3.8/site-packages/stack_data/core.py\", line 677, in included_pieces\n",
      "    scope_pieces = self.scope_pieces\n",
      "  File \"/home/mxerri/.local/lib/python3.8/site-packages/stack_data/utils.py\", line 145, in cached_property_wrapper\n",
      "    value = obj.__dict__[self.func.__name__] = self.func(obj)\n",
      "  File \"/home/mxerri/.local/lib/python3.8/site-packages/stack_data/core.py\", line 614, in scope_pieces\n",
      "    scope_start, scope_end = self.source.line_range(self.scope)\n",
      "  File \"/home/mxerri/.local/lib/python3.8/site-packages/stack_data/core.py\", line 178, in line_range\n",
      "    return line_range(self.asttext(), node)\n",
      "  File \"/home/mxerri/.local/lib/python3.8/site-packages/executing/executing.py\", line 333, in asttext\n",
      "    self._asttext = ASTText(self.text, tree=self.tree, filename=self.filename)\n",
      "  File \"/home/mxerri/.local/lib/python3.8/site-packages/asttokens/asttokens.py\", line 305, in __init__\n",
      "    super(ASTText, self).__init__(source_text, filename)\n",
      "  File \"/home/mxerri/.local/lib/python3.8/site-packages/asttokens/asttokens.py\", line 47, in __init__\n",
      "    source_text = six.ensure_text(source_text)\n",
      "AttributeError: module 'six' has no attribute 'ensure_text'\n"
     ]
    }
   ],
   "source": [
    "for epoch in range(3):\n",
    "    total_loss = 0\n",
    "    count = 0\n",
    "    for batch_idx, (imgs, labels) in enumerate(train_loader):\n",
    "\n",
    "        #print(batch_idx)\n",
    "        #print(imgs.shape)\n",
    "        #print(labels.shape)\n",
    "\n",
    "        optimizer.zero_grad()\n",
    "\n",
    "        output = model(imgs) # -> (5, H/4, W/4, #joints) \n",
    "\n",
    "        # Heatmap dimensions are 56x56, so we need to resize at the end\n",
    "\n",
    "        #print(\"model output shape\")\n",
    "        #print(output.shape)\n",
    "\n",
    "        # upsample heatmap to 224 \n",
    "        #output = upsample_heatmap(output, (224,224)) # check this doesnt mess w back prop\n",
    "\n",
    "        loss = loss_func(output, labels.float())\n",
    "        \n",
    "        loss.backward()\n",
    "        optimizer.step()\n",
    "        total_loss += loss\n",
    "\n",
    "        print(\"batch completed\")\n",
    "    if epoch % 1 == 0:\n",
    "        print(\"epoch: \", epoch, \"loss: \", total_loss)\n",
    "\n",
    "\n"
   ]
  }
 ],
 "metadata": {
  "kernelspec": {
   "display_name": "Python 3",
   "language": "python",
   "name": "python3"
  },
  "language_info": {
   "codemirror_mode": {
    "name": "ipython",
    "version": 3
   },
   "file_extension": ".py",
   "mimetype": "text/x-python",
   "name": "python",
   "nbconvert_exporter": "python",
   "pygments_lexer": "ipython3",
   "version": "3.8.10"
  }
 },
 "nbformat": 4,
 "nbformat_minor": 2
}
