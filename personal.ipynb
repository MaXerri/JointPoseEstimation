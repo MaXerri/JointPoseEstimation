{
 "cells": [
  {
   "cell_type": "code",
   "execution_count": null,
   "metadata": {},
   "outputs": [],
   "source": [
    "import torch\n",
    "from torch import optim\n",
    "import numpy as np\n",
    "import matplotlib.pyplot as plt\n",
    "from datasets.custom_datasets import CustomDataset\n",
    "from torch.utils.data import DataLoader\n",
    "from models.pose_estimation_model import TransformerPoseModel\n",
    "from utils.training_helpers import resize_single_joint\n",
    "from utils.training_helpers import plot_with_joints_r\n",
    "from utils.preprocessing_helpers import get_image_sizes, get_list_of_image_names\n",
    "from models.loss import JointsMSELoss\n",
    "import torch.optim\n",
    "from utils.heatmap_funcs import generate_gaussian_heatmap, generate_single_image_gaussian, upsample_heatmap\n",
    "from utils.visualize_helpers import displayHeatmaps, test_plot, plot_many\n",
    "from utils.train import train\n",
    "from utils.validate import validate"
   ]
  },
  {
   "cell_type": "code",
   "execution_count": null,
   "metadata": {},
   "outputs": [],
   "source": [
    "if torch.backends.mps.is_available():\n",
    "  device = torch.device('mps')\n",
    "elif torch.cuda.is_available():\n",
    "  device = torch.device('cuda')\n",
    "else:\n",
    "  device = torch.device('cpu')"
   ]
  },
  {
   "cell_type": "code",
   "execution_count": null,
   "metadata": {},
   "outputs": [],
   "source": [
    "BASE_DIR = '/Users/richardpignatiello/repos/4701/JointPoseEstimation/' # CHANGE TO YOUR DIR."
   ]
  },
  {
   "cell_type": "code",
   "execution_count": null,
   "metadata": {},
   "outputs": [],
   "source": [
    "# dataset loading\n",
    "# annot = np.load('/home/mxerri/JointPoseEstimation/Data/lsp/leeds_sports_extended.npy')\n",
    "annot = np.load(BASE_DIR +  'data/lsp/leeds_sports_extended.npy')\n",
    "annot_s = np.swapaxes(annot, 0,2)\n",
    "annot_s = np.swapaxes(annot_s,1,2)\n",
    "\n",
    "# retrieve image sizes\n",
    "# image_sizes = get_image_sizes('/home/mxerri/JointPoseEstimation/Data/lsp/images/')\n",
    "image_sizes = get_image_sizes(BASE_DIR + 'data/lsp/images/')\n",
    "# image_sizes_resized = get_image_sizes('/home/mxerri/JointPoseEstimation/Data/lsp/images224/')\n",
    "image_sizes_resized = get_image_sizes(BASE_DIR + 'data/lsp/images224/')\n",
    "annot_resize = np.zeros_like(annot_s)\n",
    "\n",
    "# resize annotations\n",
    "for i in range(10000):\n",
    "    annot_resize[i] = resize_single_joint(annot_s[i],image_sizes_resized[i],image_sizes[i] ) \n",
    "    # make annortations into 56 x 56 for loss function \n",
    "    annot_resize[i] = resize_single_joint(annot_resize[i],(56,56),(224,224))"
   ]
  },
  {
   "cell_type": "code",
   "execution_count": null,
   "metadata": {},
   "outputs": [],
   "source": [
    "# create mpii dataset\n",
    "mpii_annot_s = np.load(BASE_DIR + 'datasets/mpii_annots.npy')\n",
    "\n",
    "mpii_image_sizes = get_image_sizes(BASE_DIR + 'data/mpii/images/')\n",
    "mpii_image_sizes_resized = get_image_sizes(BASE_DIR + 'data/mpii/images224/')\n",
    "\n",
    "mpii_annot_resize = np.zeros_like(mpii_annot_s)\n",
    "for i in range(mpii_annot_resize.shape[2]):\n",
    "    mpii_annot_resize[i] = resize_single_joint(mpii_annot_s[i],mpii_image_sizes_resized[i],mpii_image_sizes[i] ) \n",
    "    # make annortations into 56 x 56 for loss function \n",
    "    mpii_annot_resize[i] = resize_single_joint(mpii_annot_resize[i],(56,56),(224,224))"
   ]
  },
  {
   "cell_type": "code",
   "execution_count": null,
   "metadata": {},
   "outputs": [],
   "source": [
    "# create lsp dataset\n",
    "lsp_image_name_list = get_list_of_image_names(BASE_DIR + 'data/lsp/images224/')\n",
    "lsp_dataset = CustomDataset(annot_resize, lsp_image_name_list,BASE_DIR + 'data/lsp/images224/',3)\n",
    "print(annot_resize.shape)\n",
    "\n",
    "# create mpii dataset\n",
    "mpii_image_name_list = get_list_of_image_names(BASE_DIR + 'data/mpii/images224/')\n",
    "mpii_dataset = CustomDataset(mpii_annot_resize, mpii_image_name_list,BASE_DIR + 'data/mpii/images224/', 3)\n",
    "print(mpii_annot_resize.shape)\n",
    "\n",
    "# concat datasets into one large training dataset\n",
    "# allows us to shuffle the images from mpii and lsp together\n",
    "train_dataset = torch.utils.data.ConcatDataset([lsp_dataset, mpii_dataset])\n",
    "data_loader = DataLoader(train_dataset, batch_size=32, shuffle = True)"
   ]
  },
  {
   "cell_type": "code",
   "execution_count": null,
   "metadata": {},
   "outputs": [],
   "source": [
    "# convert to joint heatmaps from coordiantes: \n",
    "heatmaps = generate_gaussian_heatmap(annot_resize[0:10],(56,56),3)\n",
    "print(heatmaps.shape)\n",
    "plt.imshow(heatmaps[0][2])\n",
    "print(heatmaps[0][2].shape)\n",
    "z = np.unravel_index(heatmaps[0,2,:,:].argmax(), heatmaps[0,2,:,:].shape)\n",
    "print(z)\n",
    "print(annot_resize[0,2,:])"
   ]
  },
  {
   "cell_type": "code",
   "execution_count": null,
   "metadata": {},
   "outputs": [],
   "source": [
    "model = TransformerPoseModel(2)\n",
    "optimizer = optim.Adam(model.parameters(), lr=0.001)\n",
    "loss_func = JointsMSELoss()\n",
    "model.to(device)\n",
    "\n",
    "train(\n",
    "  epochs=15,\n",
    "  model=model,\n",
    "  optimizer=optimizer,\n",
    "  loss_func=loss_func,\n",
    "  data_loader=data_loader,\n",
    "  device=device,\n",
    "  save_name='test',\n",
    "  save_freq=5\n",
    "  )\n",
    "\n",
    "validate(\n",
    "  model=model,\n",
    "  optimizer=optimizer,\n",
    "  loss_func=loss_func,\n",
    "  data_loader=data_loader, # TODO: Update this with Original LSP dataloader\n",
    "  device=device\n",
    ")"
   ]
  },
  {
   "cell_type": "code",
   "execution_count": null,
   "metadata": {},
   "outputs": [],
   "source": [
    "# code to load a pre-trained model\n",
    "\n",
    "# model = TransformerPoseModel(2)\n",
    "# model.load_state_dict(torch.load('/Users/richardpignatiello/repos/4701/JointPoseEstimation/trained_models/12_7_300.pth'))\n",
    "# model.to(device)"
   ]
  }
 ],
 "metadata": {
  "kernelspec": {
   "display_name": "Python 3",
   "language": "python",
   "name": "python3"
  },
  "language_info": {
   "codemirror_mode": {
    "name": "ipython",
    "version": 3
   },
   "file_extension": ".py",
   "mimetype": "text/x-python",
   "name": "python",
   "nbconvert_exporter": "python",
   "pygments_lexer": "ipython3",
   "version": "3.9.18"
  }
 },
 "nbformat": 4,
 "nbformat_minor": 2
}
